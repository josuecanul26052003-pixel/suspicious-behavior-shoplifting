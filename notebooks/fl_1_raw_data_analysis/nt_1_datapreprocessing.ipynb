{
  "cells": [
    {
      "cell_type": "markdown",
      "id": "21e74602",
      "metadata": {
        "id": "21e74602"
      },
      "source": [
        "# Preprocessing\n",
        "- video2frames\n",
        "- flipping\n",
        "- rotation\n",
        "- grayscale\n",
        "- segmentation"
      ]
    },
    {
      "cell_type": "code",
      "source": [
        "from google.colab import drive\n",
        "drive.mount('/content/drive')\n",
        "!git clone https://github.com/josuecanul26052003-pixel/suspicious-behavior-shoplifting.git\n",
        "%cd suspicious-behavior-shoplifting\n"
      ],
      "metadata": {
        "id": "UOaR5nxBstV1",
        "outputId": "ad0ac293-4a70-40dd-e173-f89391d41c8f",
        "colab": {
          "base_uri": "https://localhost:8080/"
        }
      },
      "id": "UOaR5nxBstV1",
      "execution_count": 4,
      "outputs": [
        {
          "output_type": "stream",
          "name": "stdout",
          "text": [
            "Drive already mounted at /content/drive; to attempt to forcibly remount, call drive.mount(\"/content/drive\", force_remount=True).\n",
            "fatal: destination path 'suspicious-behavior-shoplifting' already exists and is not an empty directory.\n",
            "/content/suspicious-behavior-shoplifting/suspicious-behavior-shoplifting\n"
          ]
        }
      ]
    },
    {
      "cell_type": "markdown",
      "source": [
        "# Data loading"
      ],
      "metadata": {
        "id": "Wu_QIRB1vMeH"
      },
      "id": "Wu_QIRB1vMeH"
    },
    {
      "cell_type": "code",
      "source": [],
      "metadata": {
        "id": "kA4viTgPvL2v"
      },
      "id": "kA4viTgPvL2v",
      "execution_count": null,
      "outputs": []
    },
    {
      "cell_type": "markdown",
      "source": [],
      "metadata": {
        "id": "dg6tuDDTvLkU"
      },
      "id": "dg6tuDDTvLkU"
    }
  ],
  "metadata": {
    "language_info": {
      "name": "python"
    },
    "colab": {
      "provenance": []
    },
    "kernelspec": {
      "name": "python3",
      "display_name": "Python 3"
    }
  },
  "nbformat": 4,
  "nbformat_minor": 5
}