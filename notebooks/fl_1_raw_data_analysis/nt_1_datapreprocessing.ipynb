{
 "cells": [
  {
   "cell_type": "markdown",
   "id": "21e74602",
   "metadata": {},
   "source": [
    "# Preprocessing\n",
    "- video2frames\n",
    "- flipping\n",
    "- rotation\n",
    "- grayscale\n",
    "- segmentation"
   ]
  }
 ],
 "metadata": {
  "language_info": {
   "name": "python"
  }
 },
 "nbformat": 4,
 "nbformat_minor": 5
}
